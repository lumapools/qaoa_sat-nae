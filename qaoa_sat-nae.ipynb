{
 "cells": [
  {
   "attachments": {},
   "cell_type": "markdown",
   "metadata": {},
   "source": [
    "## SAT-NAE\n",
    "\n",
    "### Aim\n",
    "Given a SAT problem, solve it such that for each clause, have at least one variable to be set to false."
   ]
  },
  {
   "attachments": {},
   "cell_type": "markdown",
   "metadata": {},
   "source": [
    "### Example\n",
    "\n",
    "We aim to solve a 3-SAT problem of the form\n",
    "\n",
    "$(x_1 \\lor x_2 \\lor \\neg x_3) \\land (x_3 \\lor \\neg x_1 \\lor \\neg x_6) \\land (\\neg x_2 \\lor x_4 \\lor x_5) \\land (\\neg x_4 \\lor \\neg x_5 \\lor x_6)$\n",
    "\n",
    "such that each clause $C$ must satisfy that for the three variables in $C$, at least one is true, and at least one is false. By setting $w_i = (-1)^{x_i}$, we aim to solve:\n",
    "\n",
    "$\\displaystyle \\max\\limits_{w_i \\in \\{-1,1\\}} \\sum\\limits_{c\\in C}\\frac{3}{4}-\\frac{1}{4}(w_iw_j + w_iw_k + w_jw_k) \\equiv \\frac{3}{4}|C| - \\frac{1}{4} \\min\\limits_{w_i \\in \\{-1, 1\\}} \\sum\\limits_{c\\in C}(w_iw_j + w_iw_k + w_jw_k)$.\n",
    "\n",
    "Thus, our problem becomes:\n",
    "\n",
    "$\\displaystyle \\min\\limits_{w_i \\in \\{-1, 1\\}} \\sum\\limits_{c\\in C}(w_iw_j + w_iw_k + w_jw_k) + M\\sum\\limits_{i=1}^n (w_i w_{i+n})$\n",
    "\n",
    "where the second sum accounts for a penalty where we want to ensure that $w_i$ and $\\neg w_i$ indeed hold different values (and M is a sufficiently large positive number)"
   ]
  },
  {
   "attachments": {},
   "cell_type": "markdown",
   "metadata": {},
   "source": [
    "## Try for QAOA Form\n",
    "$\\sum\\limits_{c \\in C} (Z_iZ_j+Z_iZ_k+Z_jZ_k) + M\\sum\\limits_{i=1}^n(Z_iZ_{i+n})$"
   ]
  },
  {
   "attachments": {},
   "cell_type": "markdown",
   "metadata": {},
   "source": [
    "## Encode SAT Formula\n",
    "\n",
    "- Number of variables = $n$\n",
    "- Number of qubits that we will use: $2n$\n",
    "- Encode the variables into their indices (i.e. $x_1 \\implies 1$, $x_5 \\implies 5$)\n",
    "- Replace the negation of variable $i$ with ($i+n$)\n",
    "\n",
    "### Example\n",
    "- Input: (1 or 2 or not 3) and (not 1 or 2 or 3)\n",
    "- Problem properties: $n = 3 \\implies 2n = nqubits = 6$ \n",
    "- Output: $\\left[[1,2,6], [4,2,3]\\right]$"
   ]
  },
  {
   "cell_type": "code",
   "execution_count": 1,
   "metadata": {},
   "outputs": [],
   "source": [
    "## Some constants\n",
    "NEG_TEXT = \"not \"\n",
    "AND_TEXT = \" and \"\n",
    "OR_TEXT = \" or \"\n",
    "M_FACTOR = 10 # arbitrary, but has to be large enough"
   ]
  },
  {
   "attachments": {},
   "cell_type": "markdown",
   "metadata": {},
   "source": [
    "## Parser Code"
   ]
  },
  {
   "cell_type": "code",
   "execution_count": 2,
   "metadata": {},
   "outputs": [],
   "source": [
    "\"\"\"\n",
    "Parses the input formula (string) and outputs a list of clauses, where each clause contains a variable (negated if necessary)\n",
    "Clauses must be of the form (x_1 or not x_2 or x_3) divided by the \" and \" keyword. x_1, x_2 and x_3 have to be indices\n",
    "(i.e. x_1 === 0, x_2 === 1, x_3 === 3)\n",
    "\"\"\"\n",
    "def parse_formula(formula, num_variables):\n",
    "    clauses_text = formula.split(AND_TEXT)\n",
    "    # split the clauses by the OR_TEXT keyword to parse them individually\n",
    "    clauses_simplified = list(map(lambda clause_text: clause_text.split(OR_TEXT), clauses_text))\n",
    "    for i in range(len(clauses_simplified)):\n",
    "        for j in range(len(clauses_simplified[i])):\n",
    "            # Remove the parentheses\n",
    "            clauses_simplified[i][j] = clauses_simplified[i][j].replace('(', '')\n",
    "            clauses_simplified[i][j] = clauses_simplified[i][j].replace(')', '')\n",
    "            if clauses_simplified[i][j].startswith(NEG_TEXT):\n",
    "                var_index = clauses_simplified[i][j]\n",
    "                negated = clauses_simplified[i][j].startswith(NEG_TEXT)\n",
    "                if negated:\n",
    "                    # assign the index i+n to the negated variable i\n",
    "                    clauses_simplified[i][j] = int(clauses_simplified[i][j].split(\" \")[-1])+num_variables\n",
    "        clauses_simplified[i] = list(map(lambda x: int(x), clauses_simplified[i]))\n",
    "\n",
    "    return clauses_simplified"
   ]
  },
  {
   "attachments": {},
   "cell_type": "markdown",
   "metadata": {},
   "source": [
    "### Example\n",
    "\n",
    "We aim to solve a 3-SAT problem of the form\n",
    "\n",
    "$(x_1 \\lor x_2 \\lor \\neg x_3) \\land (x_3 \\lor \\neg x_1 \\lor \\neg x_6) \\land (\\neg x_2 \\lor x_4 \\lor x_5) \\land (\\neg x_4 \\lor \\neg x_5 \\lor x_6)$\n",
    "\n",
    "such that each clause $C$ must satisfy that for the three variables in $C$, at least one is true, and at least one is false. By setting $w_i = (-1)^{x_i}$, we aim to solve:\n",
    "\n",
    "### General Case Formula\n",
    "\n",
    "$\\displaystyle \\max\\limits_{w_i \\in \\{-1,1\\}} \\sum\\limits_{c\\in C}\\frac{3}{4}-\\frac{1}{4}(w_iw_j + w_iw_k + w_jw_k) \\equiv \\frac{3}{4}|C| - \\frac{1}{4} \\min\\limits_{w_i \\in \\{-1, 1\\}} \\sum\\limits_{c\\in C}(w_iw_j + w_iw_k + w_jw_k)$.\n",
    "\n",
    "Thus, our problem becomes:\n",
    "\n",
    "$\\displaystyle \\min\\limits_{w_i \\in \\{-1, 1\\}} \\sum\\limits_{c\\in C}(w_iw_j + w_iw_k + w_jw_k) + M\\sum\\limits_{i=1}^n (w_i w_{i+n})$\n",
    "\n",
    "where the second sum accounts for a penalty where we want to ensure that $w_i$ and $\\neg w_i$ indeed hold different values (and M is a sufficiently large positive number).\n",
    "\n",
    "In this notebook, I chose `M = M_FACTOR*num_variables`"
   ]
  },
  {
   "attachments": {},
   "cell_type": "markdown",
   "metadata": {},
   "source": [
    "## Try for QAOA Form\n",
    "$\\sum\\limits_{c \\in C} (Z_iZ_j+Z_iZ_k+Z_jZ_k) + M\\sum\\limits_{i=1}^n(Z_iZ_{i+n})$"
   ]
  },
  {
   "attachments": {},
   "cell_type": "markdown",
   "metadata": {},
   "source": [
    "## Create the Problem Hamiltonian"
   ]
  },
  {
   "cell_type": "code",
   "execution_count": 3,
   "metadata": {},
   "outputs": [],
   "source": [
    "from qiskit.opflow import I, X, Y, Z\n",
    "\n",
    "\"\"\"\n",
    "Prepares a zero Hamiltonian of for num_variables qubits (i.e. a 2^n x 2^n zero matrix)\n",
    "\"\"\"\n",
    "def create_zero_hamiltonian(num_variables):\n",
    "    zero_H = I-I # 2x2 0-matrix\n",
    "    result = zero_H\n",
    "    for i in range(2*num_variables-1):\n",
    "        result = result^zero_H\n",
    "    return result\n",
    "\n",
    "\"\"\"\n",
    "Creates the 3SAT-NAE problem Hamiltonian (to later be used by QAOA)\n",
    "\"\"\"\n",
    "def create_problem_hamiltonian(num_variables, problem_input):\n",
    "    h_p_p1 = create_zero_hamiltonian(num_variables)\n",
    "    # Create first sum (triangle max-cut Hamiltonian per clause)\n",
    "    for clause in problem_input:\n",
    "        clause_H = create_zero_hamiltonian(num_variables)\n",
    "        pairs = [(clause[0], clause[1]), (clause[0], clause[2]), (clause[1], clause[2])]\n",
    "        for pair in pairs:\n",
    "            pairH = 1\n",
    "            for i in range(2*num_variables):\n",
    "                if pair[0] == i or pair[1] == i:\n",
    "                    pairH = pairH^Z\n",
    "                else:\n",
    "                    pairH = pairH^I\n",
    "            clause_H += pairH\n",
    "        h_p_p1 += clause_H\n",
    "\n",
    "    # Create second sum (penalty term)\n",
    "    h_p_p2 = create_zero_hamiltonian(num_variables)\n",
    "    for i in range(num_variables):\n",
    "        temp_h_p_p2 = 1\n",
    "        for j in range(2*num_variables):\n",
    "            if j == i or j == num_variables+i:\n",
    "                temp_h_p_p2 = temp_h_p_p2^Z\n",
    "            else:\n",
    "                temp_h_p_p2 = temp_h_p_p2^I\n",
    "        h_p_p2 += temp_h_p_p2\n",
    "    h_p_p2 *= M_FACTOR*num_variables\n",
    "    return h_p_p1 + h_p_p2"
   ]
  },
  {
   "attachments": {},
   "cell_type": "markdown",
   "metadata": {},
   "source": [
    "## Verify the consistency and problem constraint satisfactions"
   ]
  },
  {
   "cell_type": "code",
   "execution_count": 5,
   "metadata": {},
   "outputs": [],
   "source": [
    "\"\"\"\n",
    "Verifies if the variable assignments are consistent (i.e. make sure that x and not(x) evaluate to different values)\n",
    "Returns a boolean (True if the assignments are consistent, False otherwise)\n",
    "\"\"\"\n",
    "def verify_consistency(assignments, num_variables, show_info=True):\n",
    "    for i in range(num_variables):\n",
    "        # Check if the assignment to x and indeed not x are the same\n",
    "        if assignments[i] == assignments[i+num_variables]:\n",
    "            if show_info:\n",
    "                print(f\"Inconsistent at index {i}\")\n",
    "            return False\n",
    "    if show_info:\n",
    "        print(\"Consistent!\")\n",
    "    return True"
   ]
  },
  {
   "cell_type": "code",
   "execution_count": 6,
   "metadata": {},
   "outputs": [],
   "source": [
    "\"\"\"\n",
    "Verifies if the formula is satsified or not (with additional checks for the NAE constraint).\n",
    "Returns a boolean (True if both constraints are satisfied, False otherwise)\n",
    "\"\"\"\n",
    "def verify(result, sat_nae, num_variables, show_info=True):\n",
    "    clause_values = []\n",
    "    nae_holds = True\n",
    "    for clause_index in range(len(sat_nae)):\n",
    "        clause_value = False\n",
    "        clause_and = True # do an AND inside each clause to check for NAE\n",
    "        for i in range(3): # Because 3 variables per clause\n",
    "            if sat_nae[clause_index][i] < num_variables:\n",
    "                result[sat_nae[clause_index][i]]\n",
    "                clause_value = clause_value or bool(result[sat_nae[clause_index][i]])\n",
    "                clause_and = clause_and and bool(result[sat_nae[clause_index][i]])\n",
    "            else:\n",
    "                clause_value = clause_value or not bool(result[sat_nae[clause_index][i]-num_variables])\n",
    "                clause_and = clause_and and bool(result[sat_nae[clause_index][i]])\n",
    "        clause_values.append(clause_value)\n",
    "        if clause_and:\n",
    "            if show_info:\n",
    "                print(\"Found NAE breach in clause \" + str(clause_index))\n",
    "            nae_holds = False\n",
    "    final_value = True\n",
    "    nae_value = True\n",
    "    for i in range(len(clause_values)):\n",
    "        final_value = final_value and clause_values[i]\n",
    "    if final_value and nae_holds:\n",
    "        if show_info:\n",
    "            print(\"SAT-NAE!\")\n",
    "        return True\n",
    "    else:\n",
    "        if show_info:\n",
    "            print(\"Not SAT-NAE! :(\")\n",
    "            if final_value and not nae_holds:\n",
    "                print(\"Does not satisfy the NAE constraint.\")\n",
    "            elif not final_value and nae_value:\n",
    "                print(\"Does not satisfy the formula but NAE holds.\")\n",
    "            else:\n",
    "                print(\"Not SAT and not NAE\")\n",
    "        return False"
   ]
  },
  {
   "cell_type": "code",
   "execution_count": 37,
   "metadata": {},
   "outputs": [],
   "source": [
    "# Cell copied from https://qiskit.org/documentation/tutorials/algorithms/05_qaoa.html\n",
    "from collections import OrderedDict\n",
    "from qiskit.opflow import StateFn\n",
    "import numpy as np\n",
    "\n",
    "\n",
    "def sample_most_likely(state_vector):\n",
    "    \"\"\"Compute the most likely binary string from state vector.\n",
    "    Args:\n",
    "        state_vector (numpy.ndarray or dict): state vector or counts.\n",
    "    Returns:\n",
    "        numpy.ndarray: binary string as numpy.ndarray of ints.\n",
    "    \"\"\"\n",
    "    if isinstance(state_vector, (OrderedDict, dict)):\n",
    "        # get the binary string with the largest count\n",
    "        binary_string = sorted(state_vector.items(), key=lambda kv: kv[1])[-1][0]\n",
    "        x = np.asarray([int(y) for y in reversed(list(binary_string))])\n",
    "        return x\n",
    "    elif isinstance(state_vector, StateFn):\n",
    "        binary_string = list(state_vector.sample().keys())[0]\n",
    "        x = np.asarray([int(y) for y in reversed(list(binary_string))])\n",
    "        return x\n",
    "    else:\n",
    "        n = int(np.log2(state_vector.shape[0]))\n",
    "        k = np.argmax(np.abs(state_vector))\n",
    "        x = np.zeros(n)\n",
    "        for i in range(n):\n",
    "            x[i] = k % 2\n",
    "            k >>= 1\n",
    "        return x"
   ]
  },
  {
   "attachments": {},
   "cell_type": "markdown",
   "metadata": {},
   "source": [
    "## User input for the SAT-NAE formula"
   ]
  },
  {
   "cell_type": "code",
   "execution_count": 8,
   "metadata": {},
   "outputs": [],
   "source": [
    "num_variables = int(input(\"Enter the number of variables in the formula: \"))\n",
    "formula = input(\"Enter a SAT formula (example: (0 or 1 or not 2) and (not 0 or 3 or 4): \")\n",
    "# example: (0 or 1 or not 2) and (2 or not 0 or not 5) and (not 1 or 3 or 4) and (not 3 or not 4 or 5)\n",
    "sat_nae = parse_formula(formula, num_variables)"
   ]
  },
  {
   "cell_type": "code",
   "execution_count": 9,
   "metadata": {},
   "outputs": [
    {
     "name": "stdout",
     "output_type": "stream",
     "text": [
      "0.0 * IIIIIIIIIIII\n",
      "+ 0.0 * IIIIIIIIIIII\n",
      "+ 1.0 * ZZIIIIIIIIII\n",
      "+ 1.0 * ZIIIIIIIZIII\n",
      "+ 1.0 * IZIIIIIIZIII\n",
      "+ 0.0 * IIIIIIIIIIII\n",
      "+ 1.0 * IIZIIIZIIIII\n",
      "+ 1.0 * IIZIIIIIIIIZ\n",
      "+ 1.0 * IIIIIIZIIIIZ\n",
      "+ 0.0 * IIIIIIIIIIII\n",
      "+ 1.0 * IIIZIIIZIIII\n",
      "+ 1.0 * IIIIZIIZIIII\n",
      "+ 1.0 * IIIZZIIIIIII\n",
      "+ 0.0 * IIIIIIIIIIII\n",
      "+ 1.0 * IIIIIIIIIZZI\n",
      "+ 1.0 * IIIIIZIIIZII\n",
      "+ 1.0 * IIIIIZIIIIZI\n",
      "+ 0.0 * IIIIIIIIIIII\n",
      "+ 60.0 * ZIIIIIZIIIII\n",
      "+ 60.0 * IZIIIIIZIIII\n",
      "+ 60.0 * IIZIIIIIZIII\n",
      "+ 60.0 * IIIZIIIIIZII\n",
      "+ 60.0 * IIIIZIIIIIZI\n",
      "+ 60.0 * IIIIIZIIIIIZ\n"
     ]
    }
   ],
   "source": [
    "h_p = create_problem_hamiltonian(num_variables, sat_nae)\n",
    "print(h_p)"
   ]
  },
  {
   "attachments": {},
   "cell_type": "markdown",
   "metadata": {},
   "source": [
    "## Run QAOA"
   ]
  },
  {
   "cell_type": "code",
   "execution_count": 40,
   "metadata": {},
   "outputs": [
    {
     "name": "stderr",
     "output_type": "stream",
     "text": [
      "ibmqfactory.load_account:WARNING:2023-04-24 17:21:32,512: Credentials are already in use. The existing account in the session will be replaced.\n"
     ]
    }
   ],
   "source": [
    "from qiskit import IBMQ\n",
    "from qiskit_optimization.runtime import QAOAClient\n",
    "from qiskit.algorithms.optimizers import COBYLA\n",
    "from qiskit.providers.fake_provider import FakeGuadalupeV2\n",
    "from qiskit.algorithms import QAOA\n",
    "from qiskit.utils import QuantumInstance\n",
    "\n",
    "IBMQ.load_account()\n",
    "\n",
    "\n",
    "provider = IBMQ.get_provider(hub=\"ibm-q-utokyo\", group=\"internal\", project=\"hirashi-jst\")\n",
    "backend = provider.get_backend(\"ibmq_qasm_simulator\")\n",
    "\n",
    "# Running using Qiskit Runtime\n",
    "qaoa = QAOAClient(optimizer=COBYLA(), provider=provider, backend=backend)\n",
    "\n",
    "# instance = QuantumInstance(backend=FakeGuadalupeV2(), shots=8192)\n",
    "#qaoa = QAOA(optimizer=COBYLA(), quantum_instance=instance, reps=10)"
   ]
  },
  {
   "cell_type": "code",
   "execution_count": 41,
   "metadata": {},
   "outputs": [],
   "source": [
    "result = qaoa.compute_minimum_eigenvalue(h_p)"
   ]
  },
  {
   "attachments": {},
   "cell_type": "markdown",
   "metadata": {},
   "source": [
    "## Output the results"
   ]
  },
  {
   "cell_type": "code",
   "execution_count": 42,
   "metadata": {},
   "outputs": [
    {
     "name": "stdout",
     "output_type": "stream",
     "text": [
      "full output: [0, 0, 0, 0, 1, 0, 1, 1, 1, 1, 0, 1]\n",
      "result: [0, 0, 0, 0, 1, 0] (input was \"(0 or 1 or not 2) and (2 or not 0 or not 5) and (not 1 or 3 or 4) and (not 3 or not 4 or 5)\")\n"
     ]
    }
   ],
   "source": [
    "full_output = list(sample_most_likely(result.eigenstate))[::-1]\n",
    "reduced_output = full_output[:num_variables]\n",
    "print(f\"full output: {full_output}\")\n",
    "print(f\"result: {reduced_output} (input was \\\"{formula}\\\")\")"
   ]
  },
  {
   "attachments": {},
   "cell_type": "markdown",
   "metadata": {},
   "source": [
    "## Verify if the gotten result is feasible or not"
   ]
  },
  {
   "cell_type": "code",
   "execution_count": 43,
   "metadata": {},
   "outputs": [
    {
     "name": "stdout",
     "output_type": "stream",
     "text": [
      "Consistent!\n",
      "SAT-NAE!\n"
     ]
    },
    {
     "data": {
      "text/plain": [
       "True"
      ]
     },
     "execution_count": 43,
     "metadata": {},
     "output_type": "execute_result"
    }
   ],
   "source": [
    "verify_consistency(full_output, num_variables) and verify(full_output, sat_nae, num_variables)"
   ]
  }
 ],
 "metadata": {
  "kernelspec": {
   "display_name": "base",
   "language": "python",
   "name": "python3"
  },
  "language_info": {
   "codemirror_mode": {
    "name": "ipython",
    "version": 3
   },
   "file_extension": ".py",
   "mimetype": "text/x-python",
   "name": "python",
   "nbconvert_exporter": "python",
   "pygments_lexer": "ipython3",
   "version": "3.9.6"
  },
  "orig_nbformat": 4,
  "vscode": {
   "interpreter": {
    "hash": "755e4fffd9863c34f50e22b8e332f3644d6e20de7303d9ee8e0d45660608a2f5"
   }
  }
 },
 "nbformat": 4,
 "nbformat_minor": 2
}
