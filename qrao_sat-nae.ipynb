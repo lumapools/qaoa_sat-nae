{
 "cells": [
  {
   "cell_type": "markdown",
   "metadata": {},
   "source": [
    "## Solving SAT-NAE using (3,1)-QRAC\n",
    "\n",
    "Suppose we take an easy CNF $(x_1 \\lor x_2 \\lor \\neg x_3) \\land (x_1 \\lor \\neg x_2 \\lor x_3)$ (we know it has a solution $[1, 0, 0]$), we can transform this into a graph $G = (V,E)$ with 6 nodes (3 for the variables $x_1$ to $x_3$ and 3 for the variables $\\neg x_1$ to $\\neg x_3$). Previously, we have shown that it is possible to solve 3SAT-NAE on QAOA, but we will attempt to create a Hamiltonian to solve using QRAO for an arbitrary CNF"
   ]
  },
  {
   "cell_type": "code",
   "execution_count": 1,
   "metadata": {
    "tags": []
   },
   "outputs": [],
   "source": [
    "import networkx as nx\n",
    "import matplotlib.pyplot as plt\n",
    "import math\n",
    "from qiskit import IBMQ, QuantumCircuit, transpile\n",
    "from qiskit.opflow import X, Y, Z, I\n",
    "from qiskit.algorithms.optimizers import NFT\n",
    "from qiskit_optimization.runtime import VQEClient\n",
    "from qiskit.circuit.library import TwoLocal, EfficientSU2"
   ]
  },
  {
   "cell_type": "code",
   "execution_count": 2,
   "metadata": {
    "tags": []
   },
   "outputs": [
    {
     "name": "stderr",
     "output_type": "stream",
     "text": [
      "/tmp/ipykernel_39505/2703343067.py:1: DeprecationWarning: The package qiskit.providers.ibmq is being deprecated. Please see https://ibm.biz/provider_migration_guide to get instructions on how to migrate to qiskit-ibm-provider (https://github.com/Qiskit/qiskit-ibm-provider) and qiskit-ibm-runtime (https://github.com/Qiskit/qiskit-ibm-runtime).\n",
      "  IBMQ.load_account()\n",
      "/tmp/ipykernel_39505/2703343067.py:1: DeprecationWarning: The qiskit.IBMQ entrypoint and the qiskit-ibmq-provider package (accessible from 'qiskit.providers.ibmq`) are deprecated and will be removed in a future release. Instead you should use the qiskit-ibm-provider package which is accessible from 'qiskit_ibm_provider'. You can install it with 'pip install qiskit_ibm_provider'. Just replace 'qiskit.IBMQ' with 'qiskit_ibm_provider.IBMProvider'\n",
      "  IBMQ.load_account()\n"
     ]
    }
   ],
   "source": [
    "IBMQ.load_account()\n",
    "provider = IBMQ.get_provider(hub=\"ibm-q-utokyo\", group=\"internal\", project=\"hirashi-jst\")\n",
    "\n",
    "backend = provider.get_backend(\"ibmq_qasm_simulator\")"
   ]
  },
  {
   "cell_type": "code",
   "execution_count": 3,
   "metadata": {
    "tags": []
   },
   "outputs": [],
   "source": [
    "# Create a graph from an input CNF formula\n",
    "def parse_cnf_formula():\n",
    "    # 1) Used inputs\n",
    "    num_variables = int(input(\"Enter the number of variables: \"))\n",
    "    cnf = input(\"Enter the CNF of the form above (ex: 0 1 2,0 n1 2): \")\n",
    "    # 2) Separating the CNF into clauses\n",
    "    clauses = cnf.replace(\",\", \" \")\n",
    "    parsed_cnf = clauses.split(\" \")\n",
    "    for i in range(len(parsed_cnf)):\n",
    "        if parsed_cnf[i].startswith(\"n\"):\n",
    "            parsed_cnf[i] = str(int(parsed_cnf[i][1:])+num_variables)\n",
    "    parsed_cnf = list(map(lambda elem: int(elem), parsed_cnf))\n",
    "    set_of_variables = set(parsed_cnf)\n",
    "\n",
    "    G = nx.Graph()\n",
    "    vertices = list(set_of_variables)\n",
    "    G.add_nodes_from(vertices)\n",
    "    for i in range(0, len(parsed_cnf), 3):\n",
    "        G.add_edge(parsed_cnf[i], parsed_cnf[i+1], color='b')\n",
    "        G.add_edge(parsed_cnf[i], parsed_cnf[i+2], color='b')\n",
    "        G.add_edge(parsed_cnf[i+1], parsed_cnf[i+2], color='b')\n",
    "\n",
    "    for i in range(len(parsed_cnf)):\n",
    "        if parsed_cnf[i]+num_variables in set_of_variables:\n",
    "            G.add_edge(parsed_cnf[i], parsed_cnf[i]+num_variables, color='r')\n",
    "\n",
    "    \n",
    "    return G, parsed_cnf, num_variables"
   ]
  },
  {
   "cell_type": "code",
   "execution_count": 4,
   "metadata": {
    "tags": []
   },
   "outputs": [],
   "source": [
    "# IF WE WANT TO DISPLAY THE GRAPH\n",
    "# node_colors = [\"lightblue\"]*obtained_graph.number_of_nodes()\n",
    "# edge_colors = [obtained_graph[u][v]['color'] for u,v in obtained_graph.edges()]\n",
    "# nx.draw_circular(obtained_graph, with_labels=True, node_color=node_colors, edge_color=edge_colors)"
   ]
  },
  {
   "cell_type": "markdown",
   "metadata": {},
   "source": [
    "### Graph coloring\n",
    "Now we color this graph to assign neighboring nodes a different color"
   ]
  },
  {
   "cell_type": "code",
   "execution_count": 31,
   "metadata": {
    "tags": []
   },
   "outputs": [],
   "source": [
    "def color_graph(obtained_graph):\n",
    "    # If we want visualizatoin\n",
    "    colors_list = [\"lightcoral\", \"lightgray\", \"yellow\", \"lime\", \"lightblue\", \"green\", \n",
    "                   \"mediumaquamarine\", \"magenta\", \"lightsteelblue\", \"chocolate\", \"darkorange\", \"moccasin\"]\n",
    "    #colors = nx.greedy_color(obtained_graph)\n",
    "    colors = nx.equitable_color(obtained_graph, math.ceil((obtained_graph.number_of_nodes()/3)))\n",
    "    # new_node_colors = list(map(lambda elem: colors_list[colors[elem]], obtained_graph.nodes))\n",
    "    # nx.draw_circular(obtained_graph, with_labels=True, node_color=new_node_colors, edge_color=edge_colors)\n",
    "    return colors"
   ]
  },
  {
   "attachments": {},
   "cell_type": "markdown",
   "metadata": {},
   "source": [
    "Now that we got our colored graph, we can transform the colors list into a set of list of vertices $V_{c_i}$ where each set contains vertices of the same color $c_i$. We can do this based off the `colors` variable obtained through equitable graph coloring."
   ]
  },
  {
   "cell_type": "code",
   "execution_count": 32,
   "metadata": {
    "tags": []
   },
   "outputs": [],
   "source": [
    "def group_nodes_by_color(obtained_graph, colors):\n",
    "    num_colors = len(set(colors.values()))\n",
    "    nodes_grouped_by_color = []\n",
    "    for i in range(num_colors):\n",
    "        nodes_grouped_by_color.append([])\n",
    "    for vertex in obtained_graph.nodes():\n",
    "        nodes_grouped_by_color[colors[vertex]].append(vertex)\n",
    "    return nodes_grouped_by_color"
   ]
  },
  {
   "cell_type": "markdown",
   "metadata": {},
   "source": [
    "We need $\\lceil\\frac{|V_c|}{3}\\rceil$ qubits for color $c$. So the total number of qubits needed is going to be $\\sum\\limits_{c \\in C}\\lceil\\frac{|V_c|}{3}\\rceil$. In this next cell, we create the qubit mappings, i.e. which qubit corresponds to which Vertex. The way we proceed is greedily assigning qubits to vertices. (https://arxiv.org/pdf/2302.00429.pdf [paper by Kosei Teramoto])"
   ]
  },
  {
   "cell_type": "code",
   "execution_count": 33,
   "metadata": {
    "tags": []
   },
   "outputs": [],
   "source": [
    "def create_qv_mapping(nodes_grouped_by_color, bits_per_qubit=3):\n",
    "    num_qubits_needed = 0\n",
    "    for i in range(len(nodes_grouped_by_color)):\n",
    "        num_qubits_needed += math.ceil(len(nodes_grouped_by_color[i])/bits_per_qubit)\n",
    "\n",
    "    ## qubit q_i maps to a list of vertices associated with qubit q_i (max 3 vertices per qubit)\n",
    "    qv_mappings = []    \n",
    "\n",
    "    for elem in nodes_grouped_by_color:\n",
    "        # this case covers when we need one qubit for a color\n",
    "        if len(elem) <= bits_per_qubit:\n",
    "            qv_mappings.append(elem)\n",
    "        # this case covers when we need more than one qubit for a color (split the list and assign more than one qubits)\n",
    "        else:\n",
    "            first_index = 0\n",
    "            second_index = bits_per_qubit # slicing the list (i.e. second index will be exluded from the slice)\n",
    "            while first_index < len(elem):\n",
    "                # make sure not to go too far in the slice in case the length is not a multiple of 3\n",
    "                if second_index > len(elem):\n",
    "                    second_index = len(elem)\n",
    "                    # append sliced list (max size = bits_per_qubit), i.e. if bpq=3 then for [1,2,3,4,5], we append [1,2,3] and [4,5]\n",
    "                qv_mappings.append(elem[first_index:second_index])\n",
    "                # increase the indices for appending the next element\n",
    "                first_index += bits_per_qubit\n",
    "                second_index += bits_per_qubit\n",
    "    return qv_mappings"
   ]
  },
  {
   "attachments": {},
   "cell_type": "markdown",
   "metadata": {},
   "source": [
    "### Now create the variable->qubit mappings"
   ]
  },
  {
   "cell_type": "code",
   "execution_count": 34,
   "metadata": {
    "tags": []
   },
   "outputs": [],
   "source": [
    "def create_vq_mapping(qv_mapping):\n",
    "    vq_mapping = {}\n",
    "    for i in range(len(qv_mapping)):\n",
    "        for j in range(len(qv_mapping[i])):\n",
    "            vq_mapping[qv_mapping[i][j]] = i\n",
    "    return vq_mapping"
   ]
  },
  {
   "cell_type": "markdown",
   "metadata": {},
   "source": [
    "### Assign X, Y and Z Pauli operators respectively to each vertex per qubit\n",
    "We will have a \"vertex (index) -> Pauli Operator\" mapping, to later construct the Hamiltonian based on this mapping"
   ]
  },
  {
   "cell_type": "code",
   "execution_count": 35,
   "metadata": {
    "tags": []
   },
   "outputs": [],
   "source": [
    "# Maps each vertex to an operator based on the qubit mappings\n",
    "def create_vp_mapping(qv_mapping):\n",
    "    mappings = {}\n",
    "\n",
    "    qrac_3_operators = [X, Y, Z] # Not easy to generalize but we use for (3,1)-QRAC here\n",
    "\n",
    "    for vertex_groups in qv_mapping:\n",
    "        for i in range(len(vertex_groups)):\n",
    "            mappings[vertex_groups[i]] = qrac_3_operators[i] # assign a different operator per vertex in the same group\n",
    "\n",
    "    return mappings"
   ]
  },
  {
   "cell_type": "markdown",
   "metadata": {},
   "source": [
    "### Display the operator assignments for each vertex"
   ]
  },
  {
   "attachments": {},
   "cell_type": "markdown",
   "metadata": {},
   "source": [
    "### Create the Hamiltonian based on the operator assignment for each qubit\n",
    "We want to find the ground state of $\\begin{equation}\\sum\\limits_{c\\in C}(P_iP_j + P_iP_k + P_jP_k) + H_{pen}\\end{equation}$.\n",
    "where $C$ corresponds to the set of clauses of the CNF, $H_{pen}$ is the penalty Hamiltonian of the 3SAT-NAE problem, and $P_l$ is the Pauli operator of vertex $l$ applied on the qubit corresponding to vertex $l$.\n",
    "\n",
    "To get $H_{pen}$, we can simply replace $Z_iZ_j$ from the original (non-QRAC) Hamiltonian form with $P_iP_j$. Thus our final Hamiltonian for will be given by:\n",
    "$\\begin{equation}\\sum\\limits_{c\\in C}(P_iP_j + P_iP_k + P_jP_k) + M\\sum\\limits_{v_i \\in V(G)} P_{v_i}P_{\\neg v_i})\\end{equation}$\n",
    "\n",
    "We will now design this Hamiltonian given an input CNF."
   ]
  },
  {
   "cell_type": "code",
   "execution_count": 36,
   "metadata": {
    "tags": []
   },
   "outputs": [],
   "source": [
    "# Create the accumulator Hamiltonian\n",
    "def create_zero_hamiltonian(num_qubits):\n",
    "    zero_H = I - I\n",
    "    for _ in range(num_qubits-1):\n",
    "        zero_H = zero_H ^ I\n",
    "    return zero_H"
   ]
  },
  {
   "cell_type": "code",
   "execution_count": 37,
   "metadata": {
    "tags": []
   },
   "outputs": [],
   "source": [
    "# Create the problem Hamiltonian based on the vertex-to-qubit and vertex-to-operator mappings\n",
    "def create_problem_hamiltonian(num_qubits, parsed_cnf, vq_mapping, vp_mapping):\n",
    "    prob_H = create_zero_hamiltonian(num_qubits)\n",
    "    \n",
    "    # From the parsed cnf, create (v_i, P_i, Q_i) mappings\n",
    "    v_p_q = list(map(lambda elem: (elem, vp_mapping[elem], vq_mapping[elem]), parsed_cnf))\n",
    "    \n",
    "    # Create groupings by 3 (for the clauses)\n",
    "    vpq_grouped_by_clause = [v_p_q[i:i + 3] for i in range(0, len(v_p_q), 3)]\n",
    "    \n",
    "    for vpq_clause in vpq_grouped_by_clause:\n",
    "        # Sort by qubit index (because we want to apply operators in order of qubits to the Hamiltonian)\n",
    "        vpq_clause_sorted = sorted(vpq_clause, key=lambda x: x[2])\n",
    "        op0 = (vpq_clause_sorted[0], vpq_clause_sorted[1]) # First pair in clause vpq_clause\n",
    "        op1 = (vpq_clause_sorted[0], vpq_clause_sorted[2]) # Second pair in clause vpq_clause\n",
    "        op2 = (vpq_clause_sorted[1], vpq_clause_sorted[2]) # Third pair in clause vpq_clause\n",
    "        op_pairs = [op0, op1, op2]\n",
    "        for op_pair in op_pairs:\n",
    "            op_pair_H = 1\n",
    "            for i in range(num_qubits):\n",
    "                # If i == index of the qubit we want to apply P on\n",
    "                if i == op_pair[0][2]:\n",
    "                    op_pair_H = op_pair_H ^ op_pair[0][1]\n",
    "                elif i == op_pair[1][2]:\n",
    "                    op_pair_H = op_pair_H ^ op_pair[1][1]\n",
    "                else: # Apply I if qubit i does not correspond to any vertex in the pair\n",
    "                    op_pair_H = op_pair_H ^ I\n",
    "            prob_H += op_pair_H\n",
    "    return prob_H"
   ]
  },
  {
   "cell_type": "code",
   "execution_count": 38,
   "metadata": {
    "tags": []
   },
   "outputs": [],
   "source": [
    "def create_penalty_hamiltonian(num_qubits, parsed_cnf, num_variables, vq_mapping, vp_mapping):\n",
    "    \n",
    "    # We will store vertices for which negations exist (we only want to add penalty for the vertices that have negations)\n",
    "    vertices_with_negation = []\n",
    "    non_negated_variables = list(range(num_variables))\n",
    "    set_of_variables = set(parsed_cnf)\n",
    "    \n",
    "    # check if negation exists\n",
    "    for elem in non_negated_variables:\n",
    "        if (elem+num_variables) in set_of_variables:\n",
    "            vertices_with_negation.append(elem)\n",
    "    \n",
    "    pen_H = create_zero_hamiltonian(num_qubits)\n",
    "    # Go through all vertices for which a negation exists in the CNF\n",
    "    for vertex in vertices_with_negation:\n",
    "        vertex_H = 1\n",
    "        # Loop over all the qubits (since we want to apply operators in good order)\n",
    "        for i in range(num_qubits):\n",
    "            # find the qubit index for the vertex whose negation exists\n",
    "            if vq_mapping[vertex] == i:\n",
    "                vertex_H = vertex_H ^ vp_mapping[vertex]\n",
    "            # find the qubit index for the vertex corresponding to the negation\n",
    "            elif vq_mapping[vertex + num_variables] == i:\n",
    "                vertex_H = vertex_H ^ vp_mapping[vertex + num_variables]\n",
    "            # otherwise we just apply I\n",
    "            else:\n",
    "                vertex_H = vertex_H ^ I\n",
    "        pen_H += vertex_H\n",
    "    return pen_H\n",
    "        "
   ]
  },
  {
   "cell_type": "code",
   "execution_count": 39,
   "metadata": {
    "tags": []
   },
   "outputs": [],
   "source": [
    "def create_total_hamiltonian(num_qubits, parsed_cnf, num_variables, vq_mapping, vp_mapping, M):\n",
    "    prob_H = create_problem_hamiltonian(num_qubits, parsed_cnf, vq_mapping, vp_mapping)\n",
    "    pen_H = create_penalty_hamiltonian(num_qubits, parsed_cnf, num_variables, vq_mapping, vp_mapping)\n",
    "    return prob_H + M * pen_H"
   ]
  },
  {
   "cell_type": "markdown",
   "metadata": {},
   "source": [
    "## Example Hamiltonian"
   ]
  },
  {
   "cell_type": "code",
   "execution_count": 16,
   "metadata": {
    "tags": []
   },
   "outputs": [],
   "source": [
    "#M_FACTOR = 10\n",
    "#num_qubits = 4\n",
    "\n",
    "# Create the Problem Hamiltonian\n",
    "\n",
    "#H = (X ^ X ^ I ^ I) + (X ^ I ^ I ^ X) + (I ^ X ^ I ^ X) + (Y ^ I ^ Z ^ I)\n",
    "#H += (Y ^ I ^ I ^ Z) + (I ^ I ^ Z ^ Z) + (Z ^ Y ^ I ^ I) + (Z ^ I ^ X ^ I)\n",
    "#H += (I ^ Y ^ X ^ I) + (I ^ I ^ Y ^ Y) + (I ^ Z ^ Y ^ I) + (I ^ Z ^ I ^ Y)\n",
    "#H += M_FACTOR * ((X ^ I ^ Z ^ I) + (Z ^ X ^ I ^ I) + (Y ^ I ^ I ^ X) + (I ^ Y ^ I ^ Y) + (I ^ Z ^ X ^ I) + (I ^ I ^ Y ^ Z))"
   ]
  },
  {
   "cell_type": "markdown",
   "metadata": {},
   "source": [
    "## Recreate Eigenstate\n",
    "\n",
    "Now that we found the optimal parameters for the circuit, we can recreate $\\ket{\\Psi(\\theta^{(1)}_{opt}, ..., \\theta^{(N)}_{opt})}$ using the circuit below."
   ]
  },
  {
   "cell_type": "code",
   "execution_count": 40,
   "metadata": {
    "tags": []
   },
   "outputs": [],
   "source": [
    "def circuit_create_eigenstate(optimal_parameters, ansatz_arg, backend):\n",
    "    # Apply the optimal parameters to the ansatz (which will give us a circuit for recreating |Psi>)\n",
    "    ansatz_arg.assign_parameters(optimal_parameters, ansatz_arg.parameters)\n",
    "    ansatz_opt = transpile(ansatz_arg, backend=backend)\n",
    "    return ansatz_opt"
   ]
  },
  {
   "attachments": {},
   "cell_type": "markdown",
   "metadata": {},
   "source": [
    "## The Global State\n",
    "We have to remember that, (for the PDF example SAT-NAE) after this circuit is executed, the global quantum state will be close to\n",
    "\n",
    "$\\begin{aligned}\n",
    "\\rho(\\textbf{w}) = \\frac{1}{2}(I + \\frac{(-1)^{w_1}}{\\sqrt{3}}X + \\frac{(-1)^{w_3}}{\\sqrt{3}}Y + \\frac{(-1)^{w_8}}{\\sqrt{3}}Z) \\\\\n",
    "\\otimes \\frac{1}{2}(I + \\frac{(-1)^{w_2}}{\\sqrt{3}}X + \\frac{(-1)^{w_4}}{\\sqrt{3}}Y + \\frac{(-1)^{w_{11}}}{\\sqrt{3}}Z) \\\\\n",
    "\\otimes \\frac{1}{2}(I + \\frac{(-1)^{w_5}}{\\sqrt{3}}X + \\frac{(-1)^{w_6}}{\\sqrt{3}}Y + \\frac{(-1)^{w_7}}{\\sqrt{3}}Z) \\\\\n",
    "\\otimes \\frac{1}{2}(I + \\frac{(-1)^{w_9}}{\\sqrt{3}}X + \\frac{(-1)^{w_{10}}}{\\sqrt{3}}Y + \\frac{(-1)^{w_{12}}}{\\sqrt{3}}Z) \\\\\n",
    "\\end{aligned}$\n",
    "\n",
    "Therefore, in order to get back the weights, we have to measure each qubit in three different bases ($X$, $Y$, and $Z$) in order to get back the bits $\\{w_1, \\dots, w_{12}\\}$.\n",
    "\n",
    "In total, we therefore need maximum 3 runs on the circuit (multiplied by the number of shots we want)."
   ]
  },
  {
   "cell_type": "markdown",
   "metadata": {},
   "source": [
    "## Creating the three circuits\n",
    "We want to create 3 circuits (one for each measurement basis). To measure in the Z basis, we can simply apply the measurement operator since qiskit already measures in the Z basis. For measuring in the X basis, we can apply an H (Hadamard) gate to each qubit, and for measuring in the Y basis, we can apply the S and then the H gate to each qubit."
   ]
  },
  {
   "cell_type": "code",
   "execution_count": 41,
   "metadata": {
    "tags": []
   },
   "outputs": [],
   "source": [
    "def create_measurement_circuits(eigenstate_creator, num_qubits):\n",
    "    # Circuit that will be measured in the X (and Y) basis simultaneously\n",
    "    circuit_XY = QuantumCircuit(num_qubits, num_qubits)\n",
    "    # Circuit that will be measured in the Z basis\n",
    "    circuit_Z = QuantumCircuit(num_qubits, num_qubits)\n",
    "    circuit_XY.reset(range(num_qubits))\n",
    "    circuit_Z.reset(range(num_qubits))\n",
    "    # Append to the circuit the circuit that creates |Psi>\n",
    "    circuit_XY = circuit_XY.compose(eigenstate_creator)\n",
    "    circuit_Z = circuit_Z.compose(eigenstate_creator)\n",
    "    # Apply Hadamard gate to measure all the qubits in the X (or Y) basis\n",
    "    circuit_XY.h(list(range(num_qubits)))\n",
    "    circuit_XY.barrier(range(num_qubits))\n",
    "    # Apply nothing if we want to measure in the Z basis\n",
    "    circuit_Z.barrier(range(num_qubits))\n",
    "\n",
    "    # Apply the measurement operators\n",
    "    for i in range(num_qubits):\n",
    "        for circuit in [circuit_XY, circuit_Z]:\n",
    "            circuit.measure(qubit=i, cbit=i)\n",
    "    return circuit_XY, circuit_Z"
   ]
  },
  {
   "cell_type": "markdown",
   "metadata": {},
   "source": [
    "## Getting the results\n",
    "Now let us run the circuits and fetch the results. But first we need to get an IBMQ backend."
   ]
  },
  {
   "cell_type": "code",
   "execution_count": 42,
   "metadata": {
    "tags": []
   },
   "outputs": [],
   "source": [
    "def run_circuits(circuit_XY, circuit_Z, shots, backend):\n",
    "    jobs = {}\n",
    "    jobs[\"XY\"] = backend.run(circuit_XY, shots=shots)\n",
    "    jobs[\"Z\"] = backend.run(circuit_Z, shots=shots)\n",
    "    return jobs"
   ]
  },
  {
   "cell_type": "markdown",
   "metadata": {},
   "source": [
    "## Get the results into the vertices"
   ]
  },
  {
   "cell_type": "code",
   "execution_count": 43,
   "metadata": {
    "tags": []
   },
   "outputs": [],
   "source": [
    "def get_results(jobs, qv_mapping):\n",
    "    countsXY = jobs[\"XY\"].result().get_counts()\n",
    "    countsZ = jobs[\"Z\"].result().get_counts()\n",
    "    # Get the result with highest occurence, and reverse since qiskit returns results in little-endian \n",
    "    # Apply int() on them since qiskit gives us strings\n",
    "    XY_results = list(map(lambda elem: int(elem), max(countsXY, key=countsXY.get)))[::-1]\n",
    "    Z_results = list(map(lambda elem: int(elem), max(countsZ, key=countsZ.get)))[::-1]\n",
    "    # the lists containing the results\n",
    "    X_list = []\n",
    "    Y_list = []\n",
    "    Z_list = []\n",
    "    for i in range(len(qv_mapping)): # list of vertices encoded into q[i]\n",
    "        # go through the qubit->vertex mappings and append the vertex to the corresponding list\n",
    "        for j in range(len(qv_mapping[i])):\n",
    "            if j == 0:\n",
    "                X_list.append(qv_mapping[i][j])\n",
    "            elif j == 1:\n",
    "                Y_list.append(qv_mapping[i][j])\n",
    "            else:\n",
    "                Z_list.append(qv_mapping[i][j])\n",
    "                \n",
    "    v_res_mapping = {}\n",
    "    # Based on the results, get the results into a dictionary mapping vertex to assignment (0 or 1)\n",
    "    for i in range(len(X_list)):\n",
    "        v_res_mapping[X_list[i]] = XY_results[i]\n",
    "    for i in range(len(Y_list)):\n",
    "        v_res_mapping[Y_list[i]] = XY_results[i]\n",
    "    for i in range(len(Z_list)):\n",
    "        v_res_mapping[Z_list[i]] = Z_results[i]\n",
    "        \n",
    "    return v_res_mapping"
   ]
  },
  {
   "cell_type": "code",
   "execution_count": 44,
   "metadata": {},
   "outputs": [],
   "source": [
    "# Calculate the error of our variable assignments (results)\n",
    "def calculate_error(parsed_cnf, results, num_variables):\n",
    "    satnae_error = 0\n",
    "    consistency_error = 0\n",
    "    \n",
    "    # Calculate satnae error (when a clause is not satisfied or the NAE constraint does not hold)\n",
    "    for i in range(0, len(parsed_cnf), 3):\n",
    "        v1, v2, v3 = parsed_cnf[i], parsed_cnf[i+1], parsed_cnf[i+2]\n",
    "        if results[v1] + results[v2] + results[v3] == 0 or results[v1] + results[v2] + results[v3] == 3:\n",
    "            satnae_error += 1\n",
    "            \n",
    "    # Calculate consistency error (when a variable and its negation are assigned to the same value)\n",
    "    for i in range(num_variables):        \n",
    "        if results.get(i+num_variables) != None and results[i] == results[i+num_variables]:\n",
    "            consistency_error += 1\n",
    "    return satnae_error, consistency_error"
   ]
  },
  {
   "cell_type": "code",
   "execution_count": 45,
   "metadata": {
    "tags": []
   },
   "outputs": [],
   "source": [
    "def show_results(parsed_cnf, results, num_variables):\n",
    "    print(f\"For CNF: {parsed_cnf}\")\n",
    "    for vertex in results:\n",
    "        if vertex < num_variables:\n",
    "            if vertex + num_variables in results:\n",
    "                print(f\"x{vertex} = {results[vertex]} and not(x{vertex}) = {results[vertex+num_variables]}\")\n",
    "            else:\n",
    "                print(f\"x{vertex} = {results[vertex]}\")"
   ]
  },
  {
   "cell_type": "code",
   "execution_count": 46,
   "metadata": {
    "tags": []
   },
   "outputs": [],
   "source": [
    "def calculate_satnae(M, parsed_cnf, obtained_graph, num_variables, show_ham=False, show_res=True):\n",
    "    colors = color_graph(obtained_graph)\n",
    "    nodes_grouped_by_color = group_nodes_by_color(obtained_graph, colors)\n",
    "    qv_mapping = create_qv_mapping(nodes_grouped_by_color)\n",
    "    num_qubits = len(qv_mapping)\n",
    "    vq_mapping = create_vq_mapping(qv_mapping)\n",
    "    vp_mapping = create_vp_mapping(qv_mapping)\n",
    "    \n",
    "    total_H = create_total_hamiltonian(num_qubits, parsed_cnf, num_variables, vq_mapping, vp_mapping, M)\n",
    "    if show_ham:\n",
    "        print(total_H)\n",
    "    \n",
    "    ansatz = TwoLocal(num_qubits, \"ry\", \"cx\", entanglement=\"linear\", reps=1)\n",
    "    \n",
    "    ansatz_opt = transpile(ansatz, backend=backend)\n",
    "    vqe = VQEClient(ansatz=ansatz_opt, optimizer=NFT(maxiter=96), provider=provider, backend=backend)\n",
    "    result = vqe.compute_minimum_eigenvalue(total_H)\n",
    "    best_parameters = result.optimal_point\n",
    "    eigenstate_creator = circuit_create_eigenstate(best_parameters, ansatz_opt, backend)\n",
    "    circuit_XY, circuit_Z = create_measurement_circuits(eigenstate_creator, num_qubits)\n",
    "    jobs = run_circuits(circuit_XY, circuit_Z, 2048, backend)\n",
    "    results = get_results(jobs, qv_mapping)\n",
    "    satnae_error, consistency_error = calculate_error(parsed_cnf, results, num_variables)\n",
    "    \n",
    "    if show_res:\n",
    "        show_results(parsed_cnf, results, num_variables)\n",
    "    print(\"SATNAE_ERROR:\", satnae_error, \", CONSISTENCY_ERROR:\", consistency_error)\n",
    "    return results, satnae_error, consistency_error"
   ]
  },
  {
   "cell_type": "code",
   "execution_count": 48,
   "metadata": {
    "tags": []
   },
   "outputs": [],
   "source": [
    "# Get the CNF from user input\n",
    "obtained_graph, parsed_cnf, num_variables = parse_cnf_formula()\n",
    "# example: 0 1 n2,2 n0 n5,n1 3 4,n3 n4 5"
   ]
  },
  {
   "cell_type": "code",
   "execution_count": 52,
   "metadata": {
    "tags": []
   },
   "outputs": [],
   "source": [
    "M = 20"
   ]
  },
  {
   "cell_type": "code",
   "execution_count": 54,
   "metadata": {
    "tags": []
   },
   "outputs": [
    {
     "name": "stdout",
     "output_type": "stream",
     "text": [
      "Run 1\n",
      "------------\n",
      "For CNF: [0, 1, 8, 2, 6, 11, 7, 3, 4, 9, 10, 5]\n",
      "x5 = 1 and not(x5) = 1\n",
      "x2 = 0 and not(x2) = 1\n",
      "x1 = 0 and not(x1) = 0\n",
      "x0 = 0 and not(x0) = 1\n",
      "x4 = 0 and not(x4) = 1\n",
      "x3 = 0 and not(x3) = 1\n",
      "SATNAE_ERROR: 2 , CONSISTENCY_ERROR: 2\n",
      "average sat-nae error: 2.0\n",
      "average consistency error: 2.0\n",
      "total successes: 0\n"
     ]
    }
   ],
   "source": [
    "total_sne = 0\n",
    "total_ce = 0\n",
    "total_succ = 0\n",
    "num_tries = 1\n",
    "for i in range(num_tries):\n",
    "    print(f\"Run {i+1}\")\n",
    "    print(\"------------\")\n",
    "    results, satnae_error, consistency_error = calculate_satnae(M, parsed_cnf, obtained_graph, num_variables, show_res=True, show_ham=False)\n",
    "    total_sne += satnae_error\n",
    "    total_ce += consistency_error\n",
    "    if satnae_error + consistency_error == 0:\n",
    "        total_succ += 1\n",
    "print(\"average sat-nae error:\", total_sne/num_tries)\n",
    "print(\"average consistency error:\", total_ce/num_tries)\n",
    "print(\"total successes:\", total_succ)"
   ]
  },
  {
   "cell_type": "code",
   "execution_count": null,
   "metadata": {},
   "outputs": [],
   "source": []
  }
 ],
 "metadata": {
  "kernelspec": {
   "display_name": "Python 3 (ipykernel)",
   "language": "python",
   "name": "python3"
  },
  "language_info": {
   "codemirror_mode": {
    "name": "ipython",
    "version": 3
   },
   "file_extension": ".py",
   "mimetype": "text/x-python",
   "name": "python",
   "nbconvert_exporter": "python",
   "pygments_lexer": "ipython3",
   "version": "3.10.6"
  },
  "widgets": {
   "application/vnd.jupyter.widget-state+json": {
    "state": {},
    "version_major": 2,
    "version_minor": 0
   }
  }
 },
 "nbformat": 4,
 "nbformat_minor": 4
}
